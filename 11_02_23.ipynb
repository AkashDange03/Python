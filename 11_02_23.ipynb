{
  "nbformat": 4,
  "nbformat_minor": 0,
  "metadata": {
    "colab": {
      "provenance": [],
      "toc_visible": true,
      "authorship_tag": "ABX9TyMvaucKgTLswFykD84uorBQ",
      "include_colab_link": true
    },
    "kernelspec": {
      "name": "python3",
      "display_name": "Python 3"
    },
    "language_info": {
      "name": "python"
    }
  },
  "cells": [
    {
      "cell_type": "markdown",
      "metadata": {
        "id": "view-in-github",
        "colab_type": "text"
      },
      "source": [
        "<a href=\"https://colab.research.google.com/github/AkashTU3S2223005/Python/blob/main/11_02_23.ipynb\" target=\"_parent\"><img src=\"https://colab.research.google.com/assets/colab-badge.svg\" alt=\"Open In Colab\"/></a>"
      ]
    },
    {
      "cell_type": "markdown",
      "source": [
        "list data type in python\n",
        "Lists are used to store multiple items in a single variable.\n",
        "mutable,element inserted at end and elements are accessed using index\n",
        "List is a collection which is ordered and changeable. Allows duplicate embers.\n",
        "Tuple is a collection which is ordered and unchangeable. Allows duplicate members.\n",
        "Set is a collection which is unordered, unchangeable*, and unindexed. No duplicate members.\n",
        "Dictionary is a collection which is ordered** and changeable. No duplicate members."
      ],
      "metadata": {
        "id": "-qiAAfxx-YV1"
      }
    },
    {
      "cell_type": "code",
      "execution_count": 13,
      "metadata": {
        "colab": {
          "base_uri": "https://localhost:8080/"
        },
        "id": "jUZIOcaa-ExB",
        "outputId": "63546445-59ce-4831-aaf0-69c05d9aea03"
      },
      "outputs": [
        {
          "output_type": "stream",
          "name": "stdout",
          "text": [
            "<class 'list'>\n",
            "[1, 2, 3, 4, 5, 'akash']\n",
            "1\n",
            "list1 modified: Naruto\n",
            "length of the list1 6\n",
            "[['Naruto', 2, 3, 4, 5, 'akash']]\n",
            "1\n"
          ]
        }
      ],
      "source": [
        "list1=[1,2,3,4,5,\"akash\"]#represented using square brackets\n",
        "print(type(list1))\n",
        "print(list1)\n",
        "print(list1[0])\n",
        "list1[0]=\"Naruto\"\n",
        "print(\"list1 modified: \"+list1[0])\n",
        "print(\"length of the list1\",len(list1))\n",
        "list2=[list1]#storing list in list\n",
        "print(list2)#[['Naruto',2,3,4,5,'akash']]\n",
        "print(len(list2))#1"
      ]
    },
    {
      "cell_type": "code",
      "source": [
        "#creating list using list constructor\n",
        "list_c=list(('Apple','Mango','Banana'))\n",
        "print(list_c)\n",
        "print(type(list_c))\n",
        "print(list_c[2])\n",
        "print(list_c[-1])#negative indexing is also used\n",
        "print(list_c[1:2])#range of index is also used"
      ],
      "metadata": {
        "colab": {
          "base_uri": "https://localhost:8080/"
        },
        "id": "1Rlanl2KBBS9",
        "outputId": "2f7a3935-592d-45ca-c3fa-9a9631b7c522"
      },
      "execution_count": 18,
      "outputs": [
        {
          "output_type": "stream",
          "name": "stdout",
          "text": [
            "['Apple', 'Mango', 'Banana']\n",
            "<class 'list'>\n",
            "Banana\n",
            "Banana\n",
            "['Mango']\n"
          ]
        }
      ]
    },
    {
      "cell_type": "code",
      "source": [
        "if 'Mango' in list_c:\n",
        "  print('yes it is presented')\n",
        "else:\n",
        "  print(\"not present\")\n"
      ],
      "metadata": {
        "colab": {
          "base_uri": "https://localhost:8080/"
        },
        "id": "n0cLW9q7CB-4",
        "outputId": "466b159f-5442-4a7d-b79f-259f22d47a21"
      },
      "execution_count": 22,
      "outputs": [
        {
          "output_type": "stream",
          "name": "stdout",
          "text": [
            "yes it is presented\n"
          ]
        }
      ]
    },
    {
      "cell_type": "code",
      "source": [
        "list1=[1,2,3,4,5]\n",
        "for i in range(list1): #'list' object cannot be interpreted as an integer\n",
        "  print(i)"
      ],
      "metadata": {
        "colab": {
          "base_uri": "https://localhost:8080/",
          "height": 201
        },
        "id": "IQaqGA0JCb8t",
        "outputId": "e1f9149b-76b3-4e35-ce15-fb28167c6cc5"
      },
      "execution_count": 24,
      "outputs": [
        {
          "output_type": "error",
          "ename": "TypeError",
          "evalue": "ignored",
          "traceback": [
            "\u001b[0;31m---------------------------------------------------------------------------\u001b[0m",
            "\u001b[0;31mTypeError\u001b[0m                                 Traceback (most recent call last)",
            "\u001b[0;32m<ipython-input-24-ee7864c41617>\u001b[0m in \u001b[0;36m<module>\u001b[0;34m\u001b[0m\n\u001b[1;32m      1\u001b[0m \u001b[0mlist1\u001b[0m\u001b[0;34m=\u001b[0m\u001b[0;34m[\u001b[0m\u001b[0;36m1\u001b[0m\u001b[0;34m,\u001b[0m\u001b[0;36m2\u001b[0m\u001b[0;34m,\u001b[0m\u001b[0;36m3\u001b[0m\u001b[0;34m,\u001b[0m\u001b[0;36m4\u001b[0m\u001b[0;34m,\u001b[0m\u001b[0;36m5\u001b[0m\u001b[0;34m]\u001b[0m\u001b[0;34m\u001b[0m\u001b[0;34m\u001b[0m\u001b[0m\n\u001b[0;32m----> 2\u001b[0;31m \u001b[0;32mfor\u001b[0m \u001b[0mi\u001b[0m \u001b[0;32min\u001b[0m \u001b[0mrange\u001b[0m\u001b[0;34m(\u001b[0m\u001b[0mlist1\u001b[0m\u001b[0;34m)\u001b[0m\u001b[0;34m:\u001b[0m\u001b[0;34m\u001b[0m\u001b[0;34m\u001b[0m\u001b[0m\n\u001b[0m\u001b[1;32m      3\u001b[0m   \u001b[0mprint\u001b[0m\u001b[0;34m(\u001b[0m\u001b[0mi\u001b[0m\u001b[0;34m)\u001b[0m\u001b[0;34m\u001b[0m\u001b[0;34m\u001b[0m\u001b[0m\n",
            "\u001b[0;31mTypeError\u001b[0m: 'list' object cannot be interpreted as an integer"
          ]
        }
      ]
    },
    {
      "cell_type": "code",
      "source": [
        "thislist = [\"apple\", \"banana\", \"cherry\"]\n",
        "\n",
        "thislist[1:2] = [\"watermelon\"]\n",
        "\n",
        "print(thislist)"
      ],
      "metadata": {
        "colab": {
          "base_uri": "https://localhost:8080/"
        },
        "id": "ii_Z3Qi0DuDD",
        "outputId": "f0cf844a-c30f-4234-886b-a8eba7665b6a"
      },
      "execution_count": 25,
      "outputs": [
        {
          "output_type": "stream",
          "name": "stdout",
          "text": [
            "['apple', 'watermelon', 'cherry']\n"
          ]
        }
      ]
    },
    {
      "cell_type": "code",
      "source": [
        "thislist = [\"apple\", \"banana\", \"cherry\"]\n",
        "\n",
        "thislist[1:3] = [\"watermelon\"]\n",
        "\n",
        "print(thislist)"
      ],
      "metadata": {
        "colab": {
          "base_uri": "https://localhost:8080/"
        },
        "id": "v6pM7kjADwa7",
        "outputId": "6beecfe7-c9a4-4333-ea16-b54855adebdc"
      },
      "execution_count": 26,
      "outputs": [
        {
          "output_type": "stream",
          "name": "stdout",
          "text": [
            "['apple', 'watermelon']\n"
          ]
        }
      ]
    },
    {
      "cell_type": "code",
      "source": [
        "thislist = [\"apple\", \"banana\", \"cherry\"]\n",
        "thislist.insert(2,\"Mango\")\n",
        "print(thislist)"
      ],
      "metadata": {
        "colab": {
          "base_uri": "https://localhost:8080/"
        },
        "id": "xP_bWrUVEQat",
        "outputId": "915e7152-263d-402c-ac67-10be4ccf8fd1"
      },
      "execution_count": 31,
      "outputs": [
        {
          "output_type": "stream",
          "name": "stdout",
          "text": [
            "['apple', 'banana', 'Mango', 'cherry']\n"
          ]
        }
      ]
    },
    {
      "cell_type": "code",
      "source": [
        "#inserting elements\n",
        "list1=[1,2,3,4,5,'akash']\n",
        "list1.append('naruto')#it will insert element at end \n",
        "print(list1)\n",
        "list1.insert(2,9)\n",
        "print(list1)"
      ],
      "metadata": {
        "colab": {
          "base_uri": "https://localhost:8080/"
        },
        "id": "VD1kfbbKErVa",
        "outputId": "4173a29b-9737-4d0b-8ab0-a9f3d6961709"
      },
      "execution_count": 30,
      "outputs": [
        {
          "output_type": "stream",
          "name": "stdout",
          "text": [
            "[1, 2, 3, 4, 5, 'akash', 'naruto']\n",
            "[1, 2, 9, 3, 4, 5, 'akash', 'naruto']\n"
          ]
        }
      ]
    },
    {
      "cell_type": "code",
      "source": [
        "#extend method is used to insert multiple data type in list\n",
        "list1.extend(thislist)\n",
        "print(list1)\n",
        "tu1=(1,2,3,4)\n",
        "list1.extend(tu1)\n",
        "print(list1)"
      ],
      "metadata": {
        "colab": {
          "base_uri": "https://localhost:8080/"
        },
        "id": "MjBopJx4Fs8y",
        "outputId": "1048e47b-f0ea-49f5-bc6f-e97f871ac394"
      },
      "execution_count": 34,
      "outputs": [
        {
          "output_type": "stream",
          "name": "stdout",
          "text": [
            "[1, 2, 9, 3, 4, 5, 'akash', 'naruto', 'apple', 'banana', 'Mango', 'cherry', 'apple', 'banana', 'Mango', 'cherry', 1, 2, 3, 4, 'apple', 'banana', 'Mango', 'cherry']\n",
            "[1, 2, 9, 3, 4, 5, 'akash', 'naruto', 'apple', 'banana', 'Mango', 'cherry', 'apple', 'banana', 'Mango', 'cherry', 1, 2, 3, 4, 'apple', 'banana', 'Mango', 'cherry', 1, 2, 3, 4]\n"
          ]
        }
      ]
    },
    {
      "cell_type": "code",
      "source": [
        "#removing list elements\n",
        "thislist = [\"apple\", \"banana\", \"cherry\"]\n",
        "thislist.remove(\"apple\")#removes specified element from the list\n",
        "print(thislist)"
      ],
      "metadata": {
        "colab": {
          "base_uri": "https://localhost:8080/"
        },
        "id": "jLUHmCfUGc9b",
        "outputId": "c7228974-68a1-4659-fdaa-65346796db6b"
      },
      "execution_count": 35,
      "outputs": [
        {
          "output_type": "stream",
          "name": "stdout",
          "text": [
            "['banana', 'cherry']\n"
          ]
        }
      ]
    },
    {
      "cell_type": "code",
      "source": [
        "thislist = [\"apple\", \"banana\", \"cherry\"]\n",
        "thislist.pop(2)#pop the element from the specified index by default removes last element\n",
        "print(thislist)"
      ],
      "metadata": {
        "colab": {
          "base_uri": "https://localhost:8080/"
        },
        "id": "1cnenIVXGpXF",
        "outputId": "4bed39c9-64f1-4671-d808-c0f28d63a7da"
      },
      "execution_count": 36,
      "outputs": [
        {
          "output_type": "stream",
          "name": "stdout",
          "text": [
            "['apple', 'banana']\n"
          ]
        }
      ]
    },
    {
      "cell_type": "code",
      "source": [
        "thislist = [\"apple\", \"banana\", \"cherry\"]\n",
        "thislist.pop()#pop the element from the specified index by default removes last element\n",
        "print(thislist)"
      ],
      "metadata": {
        "colab": {
          "base_uri": "https://localhost:8080/"
        },
        "id": "sCwY04I8G-lS",
        "outputId": "b5621d32-9466-4c11-d9b8-cb1a95c3d829"
      },
      "execution_count": 37,
      "outputs": [
        {
          "output_type": "stream",
          "name": "stdout",
          "text": [
            "['apple', 'banana']\n"
          ]
        }
      ]
    },
    {
      "cell_type": "code",
      "source": [
        "thislist = [\"apple\", \"banana\", \"cherry\"]\n",
        "del thislist[0]\n",
        "print(thislist)"
      ],
      "metadata": {
        "colab": {
          "base_uri": "https://localhost:8080/"
        },
        "id": "xkZt6QMpIgRn",
        "outputId": "ce01bec2-82b4-4f1e-d89d-ae0772ebb9ca"
      },
      "execution_count": 38,
      "outputs": [
        {
          "output_type": "stream",
          "name": "stdout",
          "text": [
            "['banana', 'cherry']\n"
          ]
        }
      ]
    },
    {
      "cell_type": "code",
      "source": [
        "thislist = [\"apple\", \"banana\", \"cherry\"]\n",
        "del thislist#delete the list completely\n",
        "print(thislist)"
      ],
      "metadata": {
        "colab": {
          "base_uri": "https://localhost:8080/",
          "height": 201
        },
        "id": "m-w2V5olIhZ5",
        "outputId": "3f167de6-72c1-427e-be24-2a6a1ad1db9a"
      },
      "execution_count": 40,
      "outputs": [
        {
          "output_type": "error",
          "ename": "NameError",
          "evalue": "ignored",
          "traceback": [
            "\u001b[0;31m---------------------------------------------------------------------------\u001b[0m",
            "\u001b[0;31mNameError\u001b[0m                                 Traceback (most recent call last)",
            "\u001b[0;32m<ipython-input-40-4b9c960a30eb>\u001b[0m in \u001b[0;36m<module>\u001b[0;34m\u001b[0m\n\u001b[1;32m      1\u001b[0m \u001b[0mthislist\u001b[0m \u001b[0;34m=\u001b[0m \u001b[0;34m[\u001b[0m\u001b[0;34m\"apple\"\u001b[0m\u001b[0;34m,\u001b[0m \u001b[0;34m\"banana\"\u001b[0m\u001b[0;34m,\u001b[0m \u001b[0;34m\"cherry\"\u001b[0m\u001b[0;34m]\u001b[0m\u001b[0;34m\u001b[0m\u001b[0;34m\u001b[0m\u001b[0m\n\u001b[1;32m      2\u001b[0m \u001b[0;32mdel\u001b[0m \u001b[0mthislist\u001b[0m\u001b[0;34m\u001b[0m\u001b[0;34m\u001b[0m\u001b[0m\n\u001b[0;32m----> 3\u001b[0;31m \u001b[0mprint\u001b[0m\u001b[0;34m(\u001b[0m\u001b[0mthislist\u001b[0m\u001b[0;34m)\u001b[0m\u001b[0;34m\u001b[0m\u001b[0;34m\u001b[0m\u001b[0m\n\u001b[0m",
            "\u001b[0;31mNameError\u001b[0m: name 'thislist' is not defined"
          ]
        }
      ]
    },
    {
      "cell_type": "code",
      "source": [
        "thislist = [\"apple\", \"banana\", \"cherry\"]\n",
        "thislist.clear() #flush out the all element from the list\n",
        "print(thislist)"
      ],
      "metadata": {
        "colab": {
          "base_uri": "https://localhost:8080/"
        },
        "id": "mACy4qP6Iyrd",
        "outputId": "c027bbbc-e1d7-4e97-ab65-fb448703d794"
      },
      "execution_count": 41,
      "outputs": [
        {
          "output_type": "stream",
          "name": "stdout",
          "text": [
            "[]\n"
          ]
        }
      ]
    },
    {
      "cell_type": "code",
      "source": [
        "thislist = [\"apple\", \"banana\", \"cherry\"]\n",
        "for x in thislist:\n",
        "  print(x)"
      ],
      "metadata": {
        "colab": {
          "base_uri": "https://localhost:8080/"
        },
        "id": "tJpozOWGKJ_u",
        "outputId": "5caadfe1-7b6a-4184-e3ec-a77fa12152b0"
      },
      "execution_count": 43,
      "outputs": [
        {
          "output_type": "stream",
          "name": "stdout",
          "text": [
            "apple\n",
            "banana\n",
            "cherry\n"
          ]
        }
      ]
    },
    {
      "cell_type": "code",
      "source": [
        "thislist = [\"apple\", \"banana\", \"cherry\"]\n",
        "print(len(thislist))\n",
        "for x in range(len(thislist)):\n",
        "  print(x)"
      ],
      "metadata": {
        "colab": {
          "base_uri": "https://localhost:8080/"
        },
        "id": "a269xQkJKdrg",
        "outputId": "5f4671e0-9e52-4865-e100-9ce1c5021693"
      },
      "execution_count": 45,
      "outputs": [
        {
          "output_type": "stream",
          "name": "stdout",
          "text": [
            "3\n",
            "0\n",
            "1\n",
            "2\n"
          ]
        }
      ]
    },
    {
      "cell_type": "code",
      "source": [
        "thislist = [\"apple\", \"banana\", \"cherry\"]\n",
        "for x in range(len(thislist)):\n",
        "  print(thislist[x])"
      ],
      "metadata": {
        "colab": {
          "base_uri": "https://localhost:8080/"
        },
        "id": "TZhBRo4sKt7j",
        "outputId": "c4791e3a-6003-4d00-aa5a-38b54776c577"
      },
      "execution_count": 46,
      "outputs": [
        {
          "output_type": "stream",
          "name": "stdout",
          "text": [
            "apple\n",
            "banana\n",
            "cherry\n"
          ]
        }
      ]
    },
    {
      "cell_type": "code",
      "source": [
        "i=0\n",
        "while  i < len(thislist):\n",
        "  print(thislist[i])\n",
        "  i=i+1"
      ],
      "metadata": {
        "colab": {
          "base_uri": "https://localhost:8080/"
        },
        "id": "R-IlFY88K3vK",
        "outputId": "2718c2ba-1c74-4e13-efd5-306c0a5c306b"
      },
      "execution_count": 49,
      "outputs": [
        {
          "output_type": "stream",
          "name": "stdout",
          "text": [
            "apple\n",
            "banana\n",
            "cherry\n"
          ]
        }
      ]
    },
    {
      "cell_type": "code",
      "source": [
        "thislist = [\"apple\", \"banana\", \"cherry\"]\n",
        "[print(x) for x in thislist]"
      ],
      "metadata": {
        "colab": {
          "base_uri": "https://localhost:8080/"
        },
        "id": "5dU3w0H0LQ19",
        "outputId": "54aea96d-1b83-4096-e7bb-3220532b46c4"
      },
      "execution_count": 50,
      "outputs": [
        {
          "output_type": "stream",
          "name": "stdout",
          "text": [
            "apple\n",
            "banana\n",
            "cherry\n"
          ]
        },
        {
          "output_type": "execute_result",
          "data": {
            "text/plain": [
              "[None, None, None]"
            ]
          },
          "metadata": {},
          "execution_count": 50
        }
      ]
    },
    {
      "cell_type": "code",
      "source": [
        "newlist=[]\n",
        "thislist = [\"apple\", \"banana\", \"cherry\"]\n",
        "for x in thislist:\n",
        "  if x!='apple':\n",
        "    newlist.append(x)\n",
        "print(newlist)\n"
      ],
      "metadata": {
        "colab": {
          "base_uri": "https://localhost:8080/"
        },
        "id": "bcxJaMCiOnKv",
        "outputId": "f8f0ccca-f2bb-44f9-e05c-9e6ba95c4fcf"
      },
      "execution_count": 56,
      "outputs": [
        {
          "output_type": "stream",
          "name": "stdout",
          "text": [
            "['banana', 'cherry']\n"
          ]
        }
      ]
    },
    {
      "cell_type": "code",
      "source": [
        "print([x for x in thislist if x!='apple'])"
      ],
      "metadata": {
        "colab": {
          "base_uri": "https://localhost:8080/"
        },
        "id": "TjYD2qKcX6og",
        "outputId": "4e9667fc-0a1c-4087-8c5f-c12e6e7eecf6"
      },
      "execution_count": 61,
      "outputs": [
        {
          "output_type": "stream",
          "name": "stdout",
          "text": [
            "['banana', 'cherry']\n"
          ]
        }
      ]
    },
    {
      "cell_type": "code",
      "source": [
        "#newlist=[x for x in range(1,10)]\n",
        "newlist=[1,4,5,0,2,1,2,3]\n",
        "print(newlist)\n",
        "newlist.sort()\n",
        "print(newlist)\n",
        "newlist.sort(reverse=True)\n",
        "print(newlist)"
      ],
      "metadata": {
        "colab": {
          "base_uri": "https://localhost:8080/"
        },
        "id": "8S9MUI-tYgMF",
        "outputId": "13519f10-f015-48c3-df9c-e8f8646dca43"
      },
      "execution_count": 70,
      "outputs": [
        {
          "output_type": "stream",
          "name": "stdout",
          "text": [
            "[1, 4, 5, 0, 2, 1, 2, 3]\n",
            "[0, 1, 1, 2, 2, 3, 4, 5]\n",
            "[5, 4, 3, 2, 2, 1, 1, 0]\n"
          ]
        }
      ]
    },
    {
      "cell_type": "code",
      "source": [
        "newlist=[1,4,5,0,2,1,2,3]\n",
        "list1=newlist.copy()\n",
        "print(list1)\n",
        "list2=list(newlist)\n",
        "print(list2)"
      ],
      "metadata": {
        "colab": {
          "base_uri": "https://localhost:8080/"
        },
        "id": "ibMOnRyYZylI",
        "outputId": "907a795c-89cb-42b0-dd61-b84468b703de"
      },
      "execution_count": 72,
      "outputs": [
        {
          "output_type": "stream",
          "name": "stdout",
          "text": [
            "[1, 4, 5, 0, 2, 1, 2, 3]\n",
            "[1, 4, 5, 0, 2, 1, 2, 3]\n"
          ]
        }
      ]
    }
  ]
}