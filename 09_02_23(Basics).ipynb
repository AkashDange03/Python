{
  "nbformat": 4,
  "nbformat_minor": 0,
  "metadata": {
    "colab": {
      "provenance": [],
      "authorship_tag": "ABX9TyM8IQiCGqEgbaktgS6e0H2i",
      "include_colab_link": true
    },
    "kernelspec": {
      "name": "python3",
      "display_name": "Python 3"
    },
    "language_info": {
      "name": "python"
    }
  },
  "cells": [
    {
      "cell_type": "markdown",
      "metadata": {
        "id": "view-in-github",
        "colab_type": "text"
      },
      "source": [
        "<a href=\"https://colab.research.google.com/github/AkashTU3S2223005/Python/blob/main/09_02_23(Basics).ipynb\" target=\"_parent\"><img src=\"https://colab.research.google.com/assets/colab-badge.svg\" alt=\"Open In Colab\"/></a>"
      ]
    },
    {
      "cell_type": "markdown",
      "source": [
        "Basic loop operations "
      ],
      "metadata": {
        "id": "q8F4oEuZVD34"
      }
    },
    {
      "cell_type": "code",
      "execution_count": 1,
      "metadata": {
        "colab": {
          "base_uri": "https://localhost:8080/"
        },
        "id": "fCv_P6HeNvh_",
        "outputId": "c227c90c-fa36-414b-e343-7095f3314b2a"
      },
      "outputs": [
        {
          "output_type": "stream",
          "name": "stdout",
          "text": [
            "hello world\n"
          ]
        }
      ],
      "source": [
        "print(\"hello world\")"
      ]
    },
    {
      "cell_type": "code",
      "source": [
        "#write a program to display the table of 2\n",
        "a=2\n",
        "#i=1\n",
        "for i in range( 1,11):\n",
        "  print(a*i)\n"
      ],
      "metadata": {
        "colab": {
          "base_uri": "https://localhost:8080/"
        },
        "id": "w-f_vSA4OGYq",
        "outputId": "e662ce26-ccd7-4e65-f1a1-f27506a1402a"
      },
      "execution_count": 6,
      "outputs": [
        {
          "output_type": "stream",
          "name": "stdout",
          "text": [
            "2\n",
            "4\n",
            "6\n",
            "8\n",
            "10\n",
            "12\n",
            "14\n",
            "16\n",
            "18\n",
            "20\n"
          ]
        }
      ]
    },
    {
      "cell_type": "code",
      "source": [
        "print(\"*\" * 5)"
      ],
      "metadata": {
        "colab": {
          "base_uri": "https://localhost:8080/"
        },
        "id": "luxh0XOpQNjS",
        "outputId": "47225328-1beb-47da-d930-7da2bde1e105"
      },
      "execution_count": 9,
      "outputs": [
        {
          "output_type": "stream",
          "name": "stdout",
          "text": [
            "*****\n"
          ]
        }
      ]
    },
    {
      "cell_type": "code",
      "source": [
        "#write code to print pattern\n",
        "i=1\n",
        "while i<=5:\n",
        "  print(\"*\"* i)\n",
        "  i+=1 #i=i+1"
      ],
      "metadata": {
        "colab": {
          "base_uri": "https://localhost:8080/"
        },
        "id": "0-021ksCPwLB",
        "outputId": "863db503-f9b8-4808-bc36-f8a224c5472d"
      },
      "execution_count": 8,
      "outputs": [
        {
          "output_type": "stream",
          "name": "stdout",
          "text": [
            "*\n",
            "**\n",
            "***\n",
            "****\n",
            "*****\n"
          ]
        }
      ]
    },
    {
      "cell_type": "code",
      "source": [
        "for i in range(10): #it prints the value from 0 to n-1\n",
        "  print(i)"
      ],
      "metadata": {
        "colab": {
          "base_uri": "https://localhost:8080/"
        },
        "id": "sEsyBgRPPDfx",
        "outputId": "dd74ab48-9319-4f2e-9a84-d282bbc3228c"
      },
      "execution_count": 4,
      "outputs": [
        {
          "output_type": "stream",
          "name": "stdout",
          "text": [
            "0\n",
            "1\n",
            "2\n",
            "3\n",
            "4\n",
            "5\n",
            "6\n",
            "7\n",
            "8\n",
            "9\n"
          ]
        }
      ]
    },
    {
      "cell_type": "markdown",
      "source": [
        "opretions on strings"
      ],
      "metadata": {
        "id": "i-iSsLNNViNK"
      }
    },
    {
      "cell_type": "code",
      "source": [
        "str=\"Akash\"\n",
        "#str1=input(\"enter string\") #default  it takes string as an input\n",
        "print(type(str1))\n",
        "#print(str)\n",
        "print(str.upper())\n",
        "print(\"\\n\")\n",
        "##print(str1=str1+2)\n"
      ],
      "metadata": {
        "colab": {
          "base_uri": "https://localhost:8080/"
        },
        "id": "OQdg-UTYVmAd",
        "outputId": "88d7f5e3-d205-4194-9a5d-12b024192807"
      },
      "execution_count": 31,
      "outputs": [
        {
          "output_type": "stream",
          "name": "stdout",
          "text": [
            "<class 'str'>\n",
            "AKASH\n",
            "\n",
            "\n"
          ]
        }
      ]
    },
    {
      "cell_type": "markdown",
      "source": [
        "Type casting"
      ],
      "metadata": {
        "id": "gPQGTJCsXYKz"
      }
    },
    {
      "cell_type": "code",
      "source": [
        "ch='A'\n",
        "print(type(ch))\n"
      ],
      "metadata": {
        "colab": {
          "base_uri": "https://localhost:8080/"
        },
        "id": "Jnuxz_nLXTaZ",
        "outputId": "e29ce4cd-db29-4af5-e5ee-88040acee4ab"
      },
      "execution_count": 28,
      "outputs": [
        {
          "output_type": "stream",
          "name": "stdout",
          "text": [
            "<class 'str'>\n"
          ]
        }
      ]
    },
    {
      "cell_type": "code",
      "source": [
        "print(\"hello world\")\n",
        "print(\"hello ,'world'\")\n",
        "\n",
        "print(\"\"\"Akash\n",
        "Tukaram \n",
        "Dange\"\"\")#use\"\"\" string \"\"\" this to print multiple lines"
      ],
      "metadata": {
        "colab": {
          "base_uri": "https://localhost:8080/"
        },
        "id": "A-Tmg_qYYqcH",
        "outputId": "3dab14f2-262c-4499-99f7-e7e6031597f4"
      },
      "execution_count": 38,
      "outputs": [
        {
          "output_type": "stream",
          "name": "stdout",
          "text": [
            "hello world\n",
            "hello ,'world'\n",
            "Akash\n",
            "Tukaram \n",
            "Dange\n"
          ]
        }
      ]
    },
    {
      "cell_type": "code",
      "source": [
        "str1=\" TERNA COLLEGE \"\n",
        "for i in str1:\n",
        "  print(i)"
      ],
      "metadata": {
        "colab": {
          "base_uri": "https://localhost:8080/"
        },
        "id": "ajp-TyA8ZTvF",
        "outputId": "c01decf5-2ef7-469a-ecb6-ffbb9791a39e"
      },
      "execution_count": 40,
      "outputs": [
        {
          "output_type": "stream",
          "name": "stdout",
          "text": [
            "T\n",
            "E\n",
            "R\n",
            "N\n",
            "A\n",
            " \n",
            "C\n",
            "O\n",
            "L\n",
            "L\n",
            "E\n",
            "G\n",
            "E\n"
          ]
        }
      ]
    },
    {
      "cell_type": "code",
      "source": [
        "print(len(str1))\n",
        "#returns true if it present in string or not then it returns false\n",
        "print(\"Terna\" in str1)#false case sensitive\n",
        "print(\"TERNA\" in str1)\n",
        "print(str1.replace(\"T\",\"t\"))\n",
        "\n",
        "\n"
      ],
      "metadata": {
        "colab": {
          "base_uri": "https://localhost:8080/"
        },
        "id": "dI-bAwCpZjmp",
        "outputId": "32cc78f4-88fe-4081-942d-8d6154e4b1dc"
      },
      "execution_count": 52,
      "outputs": [
        {
          "output_type": "stream",
          "name": "stdout",
          "text": [
            "13\n",
            "False\n",
            "True\n",
            "tERNA COLLEGE\n",
            "E\n",
            "TERNA\n",
            "TERNA COLLEGE\n"
          ]
        }
      ]
    },
    {
      "cell_type": "markdown",
      "source": [
        "Slicing"
      ],
      "metadata": {
        "id": "33cMEM0NfYIN"
      }
    },
    {
      "cell_type": "code",
      "source": [
        "print(str1[1])#print the value on that mentioned index\n",
        "print(str1[0:5])#print data from n to n-1 index\n",
        "print(str1[0:])#print the data till the end of the string\n",
        "print(str1[:5])#print from the start of the string\n",
        "print(str1[-5:-1])"
      ],
      "metadata": {
        "colab": {
          "base_uri": "https://localhost:8080/"
        },
        "id": "BAcaEwUXfWoi",
        "outputId": "87ec11ed-1dd2-42b5-ae54-523e3f4a8f19"
      },
      "execution_count": 63,
      "outputs": [
        {
          "output_type": "stream",
          "name": "stdout",
          "text": [
            "E\n",
            "TERNA\n",
            "TERNA COLLEGE\n",
            "TERNA\n",
            "LLEG\n"
          ]
        }
      ]
    },
    {
      "cell_type": "markdown",
      "source": [
        "modify string \n"
      ],
      "metadata": {
        "id": "famWsDg5ftCd"
      }
    },
    {
      "cell_type": "code",
      "source": [
        "temp=\" Akash \"\n",
        "print(temp)\n",
        "print(temp.strip())#removes the whitepcae from beginning and ending"
      ],
      "metadata": {
        "colab": {
          "base_uri": "https://localhost:8080/"
        },
        "id": "6kgsdZy5hF4y",
        "outputId": "52c58570-da35-48ce-d4d9-9ee5d193e082"
      },
      "execution_count": 67,
      "outputs": [
        {
          "output_type": "stream",
          "name": "stdout",
          "text": [
            " Akash \n",
            "Akash\n"
          ]
        }
      ]
    },
    {
      "cell_type": "markdown",
      "source": [
        "format string\n"
      ],
      "metadata": {
        "id": "ecJCs2YbiZwK"
      }
    },
    {
      "cell_type": "code",
      "source": [
        "str1=input(\"enter your name: \")\n",
        "str2=int(input(\"enter your age: \"))\n",
        "temp=\"my name is {} and i am {} year old\"\n",
        "print(temp.format(str1,str2))\n"
      ],
      "metadata": {
        "colab": {
          "base_uri": "https://localhost:8080/"
        },
        "id": "wCH55nD6iQ-0",
        "outputId": "37fcdf5c-ec41-4945-9ed5-9140f94189a4"
      },
      "execution_count": 70,
      "outputs": [
        {
          "output_type": "stream",
          "name": "stdout",
          "text": [
            "enter your name: Akash\n",
            "enter your age: 19\n",
            "my name is Akash and i am 19 year old\n"
          ]
        }
      ]
    },
    {
      "cell_type": "code",
      "source": [
        "a=[1,2,3,4,5]\n",
        "i=5\n",
        "print(i**2)\n",
        "b=[i**2 for i in a]\n",
        "\n",
        "print(b)\n"
      ],
      "metadata": {
        "colab": {
          "base_uri": "https://localhost:8080/"
        },
        "id": "-CYTyz-Vk6Yv",
        "outputId": "9b645542-3deb-4f81-a641-e2c06898110a"
      },
      "execution_count": 80,
      "outputs": [
        {
          "output_type": "stream",
          "name": "stdout",
          "text": [
            "25\n",
            "[1, 4, 9, 16, 25]\n"
          ]
        }
      ]
    }
  ]
}